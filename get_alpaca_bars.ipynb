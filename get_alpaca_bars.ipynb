{
 "cells": [
  {
   "cell_type": "code",
   "execution_count": 31,
   "metadata": {},
   "outputs": [],
   "source": [
    "from datetime import date, datetime, timedelta\n",
    "import pandas as pd\n",
    "import mplfinance as mpf\n",
    "from alpaca_trade_api.stream import Stream\n",
    "from alpaca_trade_api.rest import REST, TimeFrame, TimeFrameUnit\n",
    "import getpass\n",
    "import os\n",
    "import requests\n",
    "import json\n",
    "from pprint import pprint"
   ]
  },
  {
   "cell_type": "code",
   "execution_count": 18,
   "metadata": {},
   "outputs": [],
   "source": [
    "API_KEY = getpass.getpass('Enter your API key: ')\n",
    "SECRET_KEY = getpass.getpass('Enter your secret key: ')\n"
   ]
  },
  {
   "cell_type": "code",
   "execution_count": 19,
   "metadata": {},
   "outputs": [],
   "source": [
    "api = REST(key_id=API_KEY, secret_key=SECRET_KEY, base_url=\"https://paper-api.alpaca.markets\")"
   ]
  },
  {
   "cell_type": "code",
   "execution_count": 20,
   "metadata": {},
   "outputs": [],
   "source": [
    "SYMBOLS_TEST = ['TSLA', 'AAPL']"
   ]
  },
  {
   "cell_type": "code",
   "execution_count": 21,
   "metadata": {},
   "outputs": [],
   "source": [
    "start_time = pd.Timestamp('2023-11-15', tz='UTC').isoformat()\n",
    "end_time = pd.Timestamp('2023-11-16', tz='UTC').isoformat()"
   ]
  },
  {
   "cell_type": "code",
   "execution_count": 23,
   "metadata": {},
   "outputs": [
    {
     "ename": "HTTPError",
     "evalue": "403 Client Error: Forbidden for url: https://data.alpaca.markets/v2/stocks/bars?timeframe=1Min&adjustment=raw&start=2023-11-15T00%3A00%3A00%2B00%3A00&end=2023-11-16T00%3A00%3A00%2B00%3A00&symbols=TSLA%2CAAPL",
     "output_type": "error",
     "traceback": [
      "\u001b[0;31m---------------------------------------------------------------------------\u001b[0m",
      "\u001b[0;31mHTTPError\u001b[0m                                 Traceback (most recent call last)",
      "\u001b[1;32m/Users/johnbartlett/me/dt and st strategies/get_alpaca_bars.ipynb Cell 6\u001b[0m line \u001b[0;36m1\n\u001b[0;32m----> <a href='vscode-notebook-cell:/Users/johnbartlett/me/dt%20and%20st%20strategies/get_alpaca_bars.ipynb#W5sZmlsZQ%3D%3D?line=0'>1</a>\u001b[0m minute_bars \u001b[39m=\u001b[39m api\u001b[39m.\u001b[39;49mget_bars(SYMBOLS_TEST, TimeFrame\u001b[39m.\u001b[39;49mMinute, start_time, end_time)\u001b[39m.\u001b[39mdf\n\u001b[1;32m      <a href='vscode-notebook-cell:/Users/johnbartlett/me/dt%20and%20st%20strategies/get_alpaca_bars.ipynb#W5sZmlsZQ%3D%3D?line=1'>2</a>\u001b[0m minute_bars\n",
      "File \u001b[0;32m~/opt/anaconda3/envs/env_zipline/lib/python3.10/site-packages/alpaca_trade_api/rest.py:718\u001b[0m, in \u001b[0;36mREST.get_bars\u001b[0;34m(self, symbol, timeframe, start, end, adjustment, limit, feed, asof)\u001b[0m\n\u001b[1;32m    708\u001b[0m \u001b[39mdef\u001b[39;00m \u001b[39mget_bars\u001b[39m(\u001b[39mself\u001b[39m,\n\u001b[1;32m    709\u001b[0m              symbol: Union[\u001b[39mstr\u001b[39m, List[\u001b[39mstr\u001b[39m]],\n\u001b[1;32m    710\u001b[0m              timeframe: TimeFrame,\n\u001b[0;32m   (...)\u001b[0m\n\u001b[1;32m    716\u001b[0m              asof: Optional[\u001b[39mstr\u001b[39m] \u001b[39m=\u001b[39m \u001b[39mNone\u001b[39;00m,\n\u001b[1;32m    717\u001b[0m              ) \u001b[39m-\u001b[39m\u001b[39m>\u001b[39m BarsV2:\n\u001b[0;32m--> 718\u001b[0m     bars \u001b[39m=\u001b[39m \u001b[39mlist\u001b[39;49m(\u001b[39mself\u001b[39;49m\u001b[39m.\u001b[39;49mget_bars_iter(symbol,\n\u001b[1;32m    719\u001b[0m                                    timeframe,\n\u001b[1;32m    720\u001b[0m                                    start,\n\u001b[1;32m    721\u001b[0m                                    end,\n\u001b[1;32m    722\u001b[0m                                    adjustment,\n\u001b[1;32m    723\u001b[0m                                    limit,\n\u001b[1;32m    724\u001b[0m                                    feed\u001b[39m=\u001b[39;49mfeed,\n\u001b[1;32m    725\u001b[0m                                    asof\u001b[39m=\u001b[39;49masof,\n\u001b[1;32m    726\u001b[0m                                    raw\u001b[39m=\u001b[39;49m\u001b[39mTrue\u001b[39;49;00m))\n\u001b[1;32m    727\u001b[0m     \u001b[39mreturn\u001b[39;00m BarsV2(bars)\n",
      "File \u001b[0;32m~/opt/anaconda3/envs/env_zipline/lib/python3.10/site-packages/alpaca_trade_api/rest.py:702\u001b[0m, in \u001b[0;36mREST.get_bars_iter\u001b[0;34m(self, symbol, timeframe, start, end, adjustment, limit, feed, asof, raw)\u001b[0m\n\u001b[1;32m    684\u001b[0m \u001b[39mdef\u001b[39;00m \u001b[39mget_bars_iter\u001b[39m(\u001b[39mself\u001b[39m,\n\u001b[1;32m    685\u001b[0m                   symbol: Union[\u001b[39mstr\u001b[39m, List[\u001b[39mstr\u001b[39m]],\n\u001b[1;32m    686\u001b[0m                   timeframe: TimeFrame,\n\u001b[0;32m   (...)\u001b[0m\n\u001b[1;32m    692\u001b[0m                   asof: Optional[\u001b[39mstr\u001b[39m] \u001b[39m=\u001b[39m \u001b[39mNone\u001b[39;00m,\n\u001b[1;32m    693\u001b[0m                   raw\u001b[39m=\u001b[39m\u001b[39mFalse\u001b[39;00m) \u001b[39m-\u001b[39m\u001b[39m>\u001b[39m BarIterator:\n\u001b[1;32m    694\u001b[0m     bars \u001b[39m=\u001b[39m \u001b[39mself\u001b[39m\u001b[39m.\u001b[39m_data_get(\u001b[39m'\u001b[39m\u001b[39mbars\u001b[39m\u001b[39m'\u001b[39m, symbol,\n\u001b[1;32m    695\u001b[0m                           timeframe\u001b[39m=\u001b[39mtimeframe,\n\u001b[1;32m    696\u001b[0m                           adjustment\u001b[39m=\u001b[39madjustment,\n\u001b[0;32m   (...)\u001b[0m\n\u001b[1;32m    700\u001b[0m                           feed\u001b[39m=\u001b[39mfeed,\n\u001b[1;32m    701\u001b[0m                           asof\u001b[39m=\u001b[39masof)\n\u001b[0;32m--> 702\u001b[0m     \u001b[39mfor\u001b[39;00m bar \u001b[39min\u001b[39;00m bars:\n\u001b[1;32m    703\u001b[0m         \u001b[39mif\u001b[39;00m raw:\n\u001b[1;32m    704\u001b[0m             \u001b[39myield\u001b[39;00m bar\n",
      "File \u001b[0;32m~/opt/anaconda3/envs/env_zipline/lib/python3.10/site-packages/alpaca_trade_api/rest.py:589\u001b[0m, in \u001b[0;36mREST._data_get\u001b[0;34m(self, endpoint, symbol_or_symbols, api_version, endpoint_base, resp_grouped_by_symbol, page_limit, feed, asof, loc, **kwargs)\u001b[0m\n\u001b[1;32m    587\u001b[0m \u001b[39mif\u001b[39;00m endpoint:\n\u001b[1;32m    588\u001b[0m     path \u001b[39m+\u001b[39m\u001b[39m=\u001b[39m \u001b[39mf\u001b[39m\u001b[39m'\u001b[39m\u001b[39m/\u001b[39m\u001b[39m{\u001b[39;00mendpoint\u001b[39m}\u001b[39;00m\u001b[39m'\u001b[39m\n\u001b[0;32m--> 589\u001b[0m resp \u001b[39m=\u001b[39m \u001b[39mself\u001b[39;49m\u001b[39m.\u001b[39;49mdata_get(path, data\u001b[39m=\u001b[39;49mdata, feed\u001b[39m=\u001b[39;49mfeed,\n\u001b[1;32m    590\u001b[0m                      api_version\u001b[39m=\u001b[39;49mapi_version)\n\u001b[1;32m    591\u001b[0m \u001b[39mif\u001b[39;00m \u001b[39mnot\u001b[39;00m resp_grouped_by_symbol:\n\u001b[1;32m    592\u001b[0m     k \u001b[39m=\u001b[39m endpoint \u001b[39mor\u001b[39;00m endpoint_base\n",
      "File \u001b[0;32m~/opt/anaconda3/envs/env_zipline/lib/python3.10/site-packages/alpaca_trade_api/rest.py:270\u001b[0m, in \u001b[0;36mREST.data_get\u001b[0;34m(self, path, data, feed, api_version)\u001b[0m\n\u001b[1;32m    268\u001b[0m     data \u001b[39m=\u001b[39m data \u001b[39mor\u001b[39;00m {}\n\u001b[1;32m    269\u001b[0m     data[\u001b[39m'\u001b[39m\u001b[39mfeed\u001b[39m\u001b[39m'\u001b[39m] \u001b[39m=\u001b[39m feed\n\u001b[0;32m--> 270\u001b[0m \u001b[39mreturn\u001b[39;00m \u001b[39mself\u001b[39;49m\u001b[39m.\u001b[39;49m_request(\n\u001b[1;32m    271\u001b[0m     \u001b[39m'\u001b[39;49m\u001b[39mGET\u001b[39;49m\u001b[39m'\u001b[39;49m, path, data, base_url\u001b[39m=\u001b[39;49mbase_url, api_version\u001b[39m=\u001b[39;49mapi_version,\n\u001b[1;32m    272\u001b[0m )\n",
      "File \u001b[0;32m~/opt/anaconda3/envs/env_zipline/lib/python3.10/site-packages/alpaca_trade_api/rest.py:213\u001b[0m, in \u001b[0;36mREST._request\u001b[0;34m(self, method, path, data, base_url, api_version)\u001b[0m\n\u001b[1;32m    211\u001b[0m \u001b[39mwhile\u001b[39;00m retry \u001b[39m>\u001b[39m\u001b[39m=\u001b[39m \u001b[39m0\u001b[39m:\n\u001b[1;32m    212\u001b[0m     \u001b[39mtry\u001b[39;00m:\n\u001b[0;32m--> 213\u001b[0m         \u001b[39mreturn\u001b[39;00m \u001b[39mself\u001b[39;49m\u001b[39m.\u001b[39;49m_one_request(method, url, opts, retry)\n\u001b[1;32m    214\u001b[0m     \u001b[39mexcept\u001b[39;00m RetryException:\n\u001b[1;32m    215\u001b[0m         retry_wait \u001b[39m=\u001b[39m \u001b[39mself\u001b[39m\u001b[39m.\u001b[39m_retry_wait\n",
      "File \u001b[0;32m~/opt/anaconda3/envs/env_zipline/lib/python3.10/site-packages/alpaca_trade_api/rest.py:234\u001b[0m, in \u001b[0;36mREST._one_request\u001b[0;34m(self, method, url, opts, retry)\u001b[0m\n\u001b[1;32m    232\u001b[0m resp \u001b[39m=\u001b[39m \u001b[39mself\u001b[39m\u001b[39m.\u001b[39m_session\u001b[39m.\u001b[39mrequest(method, url, \u001b[39m*\u001b[39m\u001b[39m*\u001b[39mopts)\n\u001b[1;32m    233\u001b[0m \u001b[39mtry\u001b[39;00m:\n\u001b[0;32m--> 234\u001b[0m     resp\u001b[39m.\u001b[39;49mraise_for_status()\n\u001b[1;32m    235\u001b[0m \u001b[39mexcept\u001b[39;00m HTTPError \u001b[39mas\u001b[39;00m http_error:\n\u001b[1;32m    236\u001b[0m     \u001b[39m# retry if we hit Rate Limit\u001b[39;00m\n\u001b[1;32m    237\u001b[0m     \u001b[39mif\u001b[39;00m resp\u001b[39m.\u001b[39mstatus_code \u001b[39min\u001b[39;00m retry_codes \u001b[39mand\u001b[39;00m retry \u001b[39m>\u001b[39m \u001b[39m0\u001b[39m:\n",
      "File \u001b[0;32m~/opt/anaconda3/envs/env_zipline/lib/python3.10/site-packages/requests/models.py:1021\u001b[0m, in \u001b[0;36mResponse.raise_for_status\u001b[0;34m(self)\u001b[0m\n\u001b[1;32m   1016\u001b[0m     http_error_msg \u001b[39m=\u001b[39m (\n\u001b[1;32m   1017\u001b[0m         \u001b[39mf\u001b[39m\u001b[39m\"\u001b[39m\u001b[39m{\u001b[39;00m\u001b[39mself\u001b[39m\u001b[39m.\u001b[39mstatus_code\u001b[39m}\u001b[39;00m\u001b[39m Server Error: \u001b[39m\u001b[39m{\u001b[39;00mreason\u001b[39m}\u001b[39;00m\u001b[39m for url: \u001b[39m\u001b[39m{\u001b[39;00m\u001b[39mself\u001b[39m\u001b[39m.\u001b[39murl\u001b[39m}\u001b[39;00m\u001b[39m\"\u001b[39m\n\u001b[1;32m   1018\u001b[0m     )\n\u001b[1;32m   1020\u001b[0m \u001b[39mif\u001b[39;00m http_error_msg:\n\u001b[0;32m-> 1021\u001b[0m     \u001b[39mraise\u001b[39;00m HTTPError(http_error_msg, response\u001b[39m=\u001b[39m\u001b[39mself\u001b[39m)\n",
      "\u001b[0;31mHTTPError\u001b[0m: 403 Client Error: Forbidden for url: https://data.alpaca.markets/v2/stocks/bars?timeframe=1Min&adjustment=raw&start=2023-11-15T00%3A00%3A00%2B00%3A00&end=2023-11-16T00%3A00%3A00%2B00%3A00&symbols=TSLA%2CAAPL"
     ]
    }
   ],
   "source": [
    "minute_bars = api.get_bars(SYMBOLS_TEST, TimeFrame.Minute, start_time, end_time).df\n",
    "minute_bars"
   ]
  },
  {
   "cell_type": "code",
   "execution_count": 28,
   "metadata": {},
   "outputs": [
    {
     "name": "stdout",
     "output_type": "stream",
     "text": [
      "<html>\n",
      "<head><title>403 Forbidden</title></head>\n",
      "<body>\n",
      "<center><h1>403 Forbidden</h1></center>\n",
      "<hr><center>nginx</center>\n",
      "</body>\n",
      "</html>\n",
      "\n"
     ]
    }
   ],
   "source": [
    "url = \"https://data.alpaca.markets/v1beta1/news?sort=desc\"\n",
    "\n",
    "headers = {\"accept\": \"application/json\",\n",
    "           \"APCA-API-KEY-ID\": API_KEY,\n",
    "           \"APCA-API-SECRET-KEY\": SECRET_KEY}\n",
    "\n",
    "response = requests.get(url, headers=headers)\n",
    "\n",
    "print(response.text)"
   ]
  },
  {
   "cell_type": "code",
   "execution_count": 33,
   "metadata": {},
   "outputs": [
    {
     "name": "stdout",
     "output_type": "stream",
     "text": [
      "{\"news\":[{\"author\":\"Benzinga Newsdesk\",\"content\":\"\",\"created_at\":\"2023-12-05T06:54:00Z\",\"headline\":\"Neptune Wellness Solutions Receives Delisting Notification From Nasdaq, Intends To Appeal\",\"id\":36085144,\"images\":[],\"source\":\"benzinga\",\"summary\":\"\",\"symbols\":[\"NEPT\"],\"updated_at\":\"2023-12-05T06:54:01Z\",\"url\":\"https://www.benzinga.com/news/23/12/36085144/neptune-wellness-solutions-receives-delisting-notification-from-nasdaq-intends-to-appeal\"},{\"author\":\"Benzinga Newsdesk\",\"content\":\"\",\"created_at\":\"2023-12-05T06:52:18Z\",\"headline\":\"Reported Late Monday, Kayne Anderson Energy Infrastructure Fund As Of November 30, 2023 Its Net Assets Were $1.8B, And Its Net Asset Value Was 10.51 Per Share\",\"id\":36085139,\"images\":[],\"source\":\"benzinga\",\"summary\":\"\",\"symbols\":[\"KYN\"],\"updated_at\":\"2023-12-05T06:52:19Z\",\"url\":\"https://www.benzinga.com/news/23/12/36085139/reported-late-monday-kayne-anderson-energy-infrastructure-fund-as-of-november-30-2023-its-net-assets\"},{\"author\":\"Navdeep Yadav\",\"content\":\"\",\"created_at\":\"2023-12-05T06:48:36Z\",\"headline\":\"Meta, IBM And Over 50 AI Companies Join Forces In Open AI Advocacy Initiative\",\"id\":36085130,\"images\":[{\"size\":\"large\",\"url\":\"https://cdn.benzinga.com/files/imagecache/2048x1536xUP/images/story/2023/Man-Using-Tools-Ai--Technology-Smart-Rob_0.jpeg\"},{\"size\":\"small\",\"url\":\"https://cdn.benzinga.com/files/imagecache/1024x768xUP/images/story/2023/Man-Using-Tools-Ai--Technology-Smart-Rob_0.jpeg\"},{\"size\":\"thumb\",\"url\":\"https://cdn.benzinga.com/files/imagecache/250x187xUP/images/story/2023/Man-Using-Tools-Ai--Technology-Smart-Rob_0.jpeg\"}],\"source\":\"benzinga\",\"summary\":\" \",\"symbols\":[\"IBM\",\"INTC\",\"META\",\"ORCL\"],\"updated_at\":\"2023-12-05T06:48:36Z\",\"url\":\"https://www.benzinga.com/news/23/12/36085130/meta-ibm-and-over-50-ai-companies-join-forces-in-open-ai-advocacy-initiative\"},{\"author\":\"Benzinga Newsdesk\",\"content\":\"\",\"created_at\":\"2023-12-05T06:43:47Z\",\"headline\":\"Odyssey Marine Exploration Secures Strategic Debt Financing From Leading institutional Investors\",\"id\":36085105,\"images\":[],\"source\":\"benzinga\",\"summary\":\"\",\"symbols\":[\"OMEX\"],\"updated_at\":\"2023-12-05T06:43:47Z\",\"url\":\"https://www.benzinga.com/news/23/12/36085105/odyssey-marine-exploration-secures-strategic-debt-financing-from-leading-institutional-investors\"},{\"author\":\"Benzinga Neuro\",\"content\":\"\",\"created_at\":\"2023-12-05T06:23:43Z\",\"headline\":\"OpenAI Commits $51M To Chip Startup Backed By CEO Sam Altman\",\"id\":36085037,\"images\":[{\"size\":\"large\",\"url\":\"https://cdn.benzinga.com/files/imagecache/2048x1536xUP/images/story/2023/Open-AI-and-Sam-Altman_2.jpeg\"},{\"size\":\"small\",\"url\":\"https://cdn.benzinga.com/files/imagecache/1024x768xUP/images/story/2023/Open-AI-and-Sam-Altman_2.jpeg\"},{\"size\":\"thumb\",\"url\":\"https://cdn.benzinga.com/files/imagecache/250x187xUP/images/story/2023/Open-AI-and-Sam-Altman_2.jpeg\"}],\"source\":\"benzinga\",\"summary\":\" \",\"symbols\":[],\"updated_at\":\"2023-12-05T06:23:43Z\",\"url\":\"https://www.benzinga.com/news/23/12/36085037/openai-commits-51m-to-chip-startup-backed-by-ceo-sam-altman\"},{\"author\":\"Anan Ashraf\",\"content\":\"\",\"created_at\":\"2023-12-05T06:18:53Z\",\"headline\":\"Defying Wall Street Skepticism, Gary Black Envisions Tesla's Cybertruck Driving 600,000 Deliveries By 2027\",\"id\":36085024,\"images\":[{\"size\":\"large\",\"url\":\"https://cdn.benzinga.com/files/imagecache/2048x1536xUP/images/story/2023/Photo-by-Mike-Mareen-on-Shutterstock_2.jpeg\"},{\"size\":\"small\",\"url\":\"https://cdn.benzinga.com/files/imagecache/1024x768xUP/images/story/2023/Photo-by-Mike-Mareen-on-Shutterstock_2.jpeg\"},{\"size\":\"thumb\",\"url\":\"https://cdn.benzinga.com/files/imagecache/250x187xUP/images/story/2023/Photo-by-Mike-Mareen-on-Shutterstock_2.jpeg\"}],\"source\":\"benzinga\",\"summary\":\" \",\"symbols\":[\"TSLA\"],\"updated_at\":\"2023-12-05T06:18:53Z\",\"url\":\"https://www.benzinga.com/analyst-ratings/analyst-color/23/12/36085024/defying-wall-street-skepticism-gary-black-envisions-teslas-cybertruck-driving-600-0\"},{\"author\":\"Benzinga Neuro\",\"content\":\"\",\"created_at\":\"2023-12-05T06:12:53Z\",\"headline\":\"Steve Jobs' 1976 Check To Radio Shack Expected To Fetch Over $20K At Auction\",\"id\":36084997,\"images\":[{\"size\":\"large\",\"url\":\"https://cdn.benzinga.com/files/imagecache/2048x1536xUP/images/story/2023/Steve-Jobs-wikimedia-commons_4.jpeg\"},{\"size\":\"small\",\"url\":\"https://cdn.benzinga.com/files/imagecache/1024x768xUP/images/story/2023/Steve-Jobs-wikimedia-commons_4.jpeg\"},{\"size\":\"thumb\",\"url\":\"https://cdn.benzinga.com/files/imagecache/250x187xUP/images/story/2023/Steve-Jobs-wikimedia-commons_4.jpeg\"}],\"source\":\"benzinga\",\"summary\":\"A check signed by Apple Inc co-founder Steve Jobs to Radio Shack in 1976 is projected to sell for over $20,000 at auction.\",\"symbols\":[\"AAPL\"],\"updated_at\":\"2023-12-05T06:12:54Z\",\"url\":\"https://www.benzinga.com/news/23/12/36084997/steve-jobs-1976-check-to-radio-shack-expected-to-fetch-over-20k-at-auction\"},{\"author\":\"Benzinga Neuro\",\"content\":\"\",\"created_at\":\"2023-12-05T06:12:49Z\",\"headline\":\"Steve Jobs' 1976 Check To Radio Shack Expected To Fetch Over $20,000 At Auction\",\"id\":36084996,\"images\":[{\"size\":\"large\",\"url\":\"https://cdn.benzinga.com/files/imagecache/2048x1536xUP/images/story/2023/Steve-Jobs-wikimedia-commons_3.jpeg\"},{\"size\":\"small\",\"url\":\"https://cdn.benzinga.com/files/imagecache/1024x768xUP/images/story/2023/Steve-Jobs-wikimedia-commons_3.jpeg\"},{\"size\":\"thumb\",\"url\":\"https://cdn.benzinga.com/files/imagecache/250x187xUP/images/story/2023/Steve-Jobs-wikimedia-commons_3.jpeg\"}],\"source\":\"benzinga\",\"summary\":\"A check signed by Apple Inc co-founder Steve Jobs to Radio Shack in 1976 is projected to sell for over $20,000 at auction.\",\"symbols\":[\"AAPL\"],\"updated_at\":\"2023-12-05T06:12:49Z\",\"url\":\"https://www.benzinga.com/news/23/12/36084996/steve-jobs-1976-check-to-radio-shack-expected-to-fetch-over-20-000-at-auction\"},{\"author\":\"Benzinga Newsdesk\",\"content\":\"\",\"created_at\":\"2023-12-05T06:09:30Z\",\"headline\":\"SpringWorks Therapeutics Prices Upsized Public Offering Of 9,482,758 Common Shares At $29/Share\",\"id\":36084970,\"images\":[],\"source\":\"benzinga\",\"summary\":\"\",\"symbols\":[\"SWTX\"],\"updated_at\":\"2023-12-05T06:09:30Z\",\"url\":\"https://www.benzinga.com/news/23/12/36084970/springworks-therapeutics-prices-upsized-public-offering-of-9-482-758-common-shares-at-29share\"},{\"author\":\"Benzinga Newsdesk\",\"content\":\"\",\"created_at\":\"2023-12-05T06:07:06Z\",\"headline\":\"Roche's Genentech Announces Phase III Results For Inavolisib Combination In People With Advanced Hormone Receptor-Positive, HER2-Negative Breast Cancer With A PIK3CA Mutation\",\"id\":36084951,\"images\":[],\"source\":\"benzinga\",\"summary\":\"\",\"symbols\":[\"RHHBF\",\"RHHBY\",\"RHHVF\"],\"updated_at\":\"2023-12-05T06:07:07Z\",\"url\":\"https://www.benzinga.com/news/23/12/36084951/roches-genentech-announces-phase-iii-results-for-inavolisib-combination-in-people-with-advanced-horm\"}],\"next_page_token\":\"MTcwMTc1NjQyNzAwMDAwMDAwMHwzNjA4NDk1MQ==\"}\n",
      "('{\"news\":[{\"author\":\"Benzinga '\n",
      " 'Newsdesk\",\"content\":\"\",\"created_at\":\"2023-12-05T06:54:00Z\",\"headline\":\"Neptune '\n",
      " 'Wellness Solutions Receives Delisting Notification From Nasdaq, Intends To '\n",
      " 'Appeal\",\"id\":36085144,\"images\":[],\"source\":\"benzinga\",\"summary\":\"\",\"symbols\":[\"NEPT\"],\"updated_at\":\"2023-12-05T06:54:01Z\",\"url\":\"https://www.benzinga.com/news/23/12/36085144/neptune-wellness-solutions-receives-delisting-notification-from-nasdaq-intends-to-appeal\"},{\"author\":\"Benzinga '\n",
      " 'Newsdesk\",\"content\":\"\",\"created_at\":\"2023-12-05T06:52:18Z\",\"headline\":\"Reported '\n",
      " 'Late Monday, Kayne Anderson Energy Infrastructure Fund As Of November 30, '\n",
      " '2023 Its Net Assets Were $1.8B, And Its Net Asset Value Was 10.51 Per '\n",
      " 'Share\",\"id\":36085139,\"images\":[],\"source\":\"benzinga\",\"summary\":\"\",\"symbols\":[\"KYN\"],\"updated_at\":\"2023-12-05T06:52:19Z\",\"url\":\"https://www.benzinga.com/news/23/12/36085139/reported-late-monday-kayne-anderson-energy-infrastructure-fund-as-of-november-30-2023-its-net-assets\"},{\"author\":\"Navdeep '\n",
      " 'Yadav\",\"content\":\"\",\"created_at\":\"2023-12-05T06:48:36Z\",\"headline\":\"Meta, '\n",
      " 'IBM And Over 50 AI Companies Join Forces In Open AI Advocacy '\n",
      " 'Initiative\",\"id\":36085130,\"images\":[{\"size\":\"large\",\"url\":\"https://cdn.benzinga.com/files/imagecache/2048x1536xUP/images/story/2023/Man-Using-Tools-Ai--Technology-Smart-Rob_0.jpeg\"},{\"size\":\"small\",\"url\":\"https://cdn.benzinga.com/files/imagecache/1024x768xUP/images/story/2023/Man-Using-Tools-Ai--Technology-Smart-Rob_0.jpeg\"},{\"size\":\"thumb\",\"url\":\"https://cdn.benzinga.com/files/imagecache/250x187xUP/images/story/2023/Man-Using-Tools-Ai--Technology-Smart-Rob_0.jpeg\"}],\"source\":\"benzinga\",\"summary\":\" '\n",
      " '\",\"symbols\":[\"IBM\",\"INTC\",\"META\",\"ORCL\"],\"updated_at\":\"2023-12-05T06:48:36Z\",\"url\":\"https://www.benzinga.com/news/23/12/36085130/meta-ibm-and-over-50-ai-companies-join-forces-in-open-ai-advocacy-initiative\"},{\"author\":\"Benzinga '\n",
      " 'Newsdesk\",\"content\":\"\",\"created_at\":\"2023-12-05T06:43:47Z\",\"headline\":\"Odyssey '\n",
      " 'Marine Exploration Secures Strategic Debt Financing From Leading '\n",
      " 'institutional '\n",
      " 'Investors\",\"id\":36085105,\"images\":[],\"source\":\"benzinga\",\"summary\":\"\",\"symbols\":[\"OMEX\"],\"updated_at\":\"2023-12-05T06:43:47Z\",\"url\":\"https://www.benzinga.com/news/23/12/36085105/odyssey-marine-exploration-secures-strategic-debt-financing-from-leading-institutional-investors\"},{\"author\":\"Benzinga '\n",
      " 'Neuro\",\"content\":\"\",\"created_at\":\"2023-12-05T06:23:43Z\",\"headline\":\"OpenAI '\n",
      " 'Commits $51M To Chip Startup Backed By CEO Sam '\n",
      " 'Altman\",\"id\":36085037,\"images\":[{\"size\":\"large\",\"url\":\"https://cdn.benzinga.com/files/imagecache/2048x1536xUP/images/story/2023/Open-AI-and-Sam-Altman_2.jpeg\"},{\"size\":\"small\",\"url\":\"https://cdn.benzinga.com/files/imagecache/1024x768xUP/images/story/2023/Open-AI-and-Sam-Altman_2.jpeg\"},{\"size\":\"thumb\",\"url\":\"https://cdn.benzinga.com/files/imagecache/250x187xUP/images/story/2023/Open-AI-and-Sam-Altman_2.jpeg\"}],\"source\":\"benzinga\",\"summary\":\" '\n",
      " '\",\"symbols\":[],\"updated_at\":\"2023-12-05T06:23:43Z\",\"url\":\"https://www.benzinga.com/news/23/12/36085037/openai-commits-51m-to-chip-startup-backed-by-ceo-sam-altman\"},{\"author\":\"Anan '\n",
      " 'Ashraf\",\"content\":\"\",\"created_at\":\"2023-12-05T06:18:53Z\",\"headline\":\"Defying '\n",
      " \"Wall Street Skepticism, Gary Black Envisions Tesla's Cybertruck Driving \"\n",
      " '600,000 Deliveries By '\n",
      " '2027\",\"id\":36085024,\"images\":[{\"size\":\"large\",\"url\":\"https://cdn.benzinga.com/files/imagecache/2048x1536xUP/images/story/2023/Photo-by-Mike-Mareen-on-Shutterstock_2.jpeg\"},{\"size\":\"small\",\"url\":\"https://cdn.benzinga.com/files/imagecache/1024x768xUP/images/story/2023/Photo-by-Mike-Mareen-on-Shutterstock_2.jpeg\"},{\"size\":\"thumb\",\"url\":\"https://cdn.benzinga.com/files/imagecache/250x187xUP/images/story/2023/Photo-by-Mike-Mareen-on-Shutterstock_2.jpeg\"}],\"source\":\"benzinga\",\"summary\":\" '\n",
      " '\",\"symbols\":[\"TSLA\"],\"updated_at\":\"2023-12-05T06:18:53Z\",\"url\":\"https://www.benzinga.com/analyst-ratings/analyst-color/23/12/36085024/defying-wall-street-skepticism-gary-black-envisions-teslas-cybertruck-driving-600-0\"},{\"author\":\"Benzinga '\n",
      " 'Neuro\",\"content\":\"\",\"created_at\":\"2023-12-05T06:12:53Z\",\"headline\":\"Steve '\n",
      " \"Jobs' 1976 Check To Radio Shack Expected To Fetch Over $20K At \"\n",
      " 'Auction\",\"id\":36084997,\"images\":[{\"size\":\"large\",\"url\":\"https://cdn.benzinga.com/files/imagecache/2048x1536xUP/images/story/2023/Steve-Jobs-wikimedia-commons_4.jpeg\"},{\"size\":\"small\",\"url\":\"https://cdn.benzinga.com/files/imagecache/1024x768xUP/images/story/2023/Steve-Jobs-wikimedia-commons_4.jpeg\"},{\"size\":\"thumb\",\"url\":\"https://cdn.benzinga.com/files/imagecache/250x187xUP/images/story/2023/Steve-Jobs-wikimedia-commons_4.jpeg\"}],\"source\":\"benzinga\",\"summary\":\"A '\n",
      " 'check signed by\\xa0Apple\\xa0Inc co-founder\\xa0Steve Jobs to Radio Shack in '\n",
      " '1976 is projected to sell for over $20,000 at '\n",
      " 'auction.\",\"symbols\":[\"AAPL\"],\"updated_at\":\"2023-12-05T06:12:54Z\",\"url\":\"https://www.benzinga.com/news/23/12/36084997/steve-jobs-1976-check-to-radio-shack-expected-to-fetch-over-20k-at-auction\"},{\"author\":\"Benzinga '\n",
      " 'Neuro\",\"content\":\"\",\"created_at\":\"2023-12-05T06:12:49Z\",\"headline\":\"Steve '\n",
      " \"Jobs' 1976 Check To Radio Shack Expected To Fetch Over $20,000 At \"\n",
      " 'Auction\",\"id\":36084996,\"images\":[{\"size\":\"large\",\"url\":\"https://cdn.benzinga.com/files/imagecache/2048x1536xUP/images/story/2023/Steve-Jobs-wikimedia-commons_3.jpeg\"},{\"size\":\"small\",\"url\":\"https://cdn.benzinga.com/files/imagecache/1024x768xUP/images/story/2023/Steve-Jobs-wikimedia-commons_3.jpeg\"},{\"size\":\"thumb\",\"url\":\"https://cdn.benzinga.com/files/imagecache/250x187xUP/images/story/2023/Steve-Jobs-wikimedia-commons_3.jpeg\"}],\"source\":\"benzinga\",\"summary\":\"A '\n",
      " 'check signed by\\xa0Apple\\xa0Inc co-founder\\xa0Steve Jobs to Radio Shack in '\n",
      " '1976 is projected to sell for over $20,000 at '\n",
      " 'auction.\",\"symbols\":[\"AAPL\"],\"updated_at\":\"2023-12-05T06:12:49Z\",\"url\":\"https://www.benzinga.com/news/23/12/36084996/steve-jobs-1976-check-to-radio-shack-expected-to-fetch-over-20-000-at-auction\"},{\"author\":\"Benzinga '\n",
      " 'Newsdesk\",\"content\":\"\",\"created_at\":\"2023-12-05T06:09:30Z\",\"headline\":\"SpringWorks '\n",
      " 'Therapeutics Prices Upsized Public Offering Of 9,482,758 Common Shares At '\n",
      " '$29/Share\",\"id\":36084970,\"images\":[],\"source\":\"benzinga\",\"summary\":\"\",\"symbols\":[\"SWTX\"],\"updated_at\":\"2023-12-05T06:09:30Z\",\"url\":\"https://www.benzinga.com/news/23/12/36084970/springworks-therapeutics-prices-upsized-public-offering-of-9-482-758-common-shares-at-29share\"},{\"author\":\"Benzinga '\n",
      " 'Newsdesk\",\"content\":\"\",\"created_at\":\"2023-12-05T06:07:06Z\",\"headline\":\"Roche\\'s '\n",
      " 'Genentech Announces Phase III Results For Inavolisib Combination In People '\n",
      " 'With Advanced Hormone Receptor-Positive, HER2-Negative Breast Cancer With A '\n",
      " 'PIK3CA '\n",
      " 'Mutation\",\"id\":36084951,\"images\":[],\"source\":\"benzinga\",\"summary\":\"\",\"symbols\":[\"RHHBF\",\"RHHBY\",\"RHHVF\"],\"updated_at\":\"2023-12-05T06:07:07Z\",\"url\":\"https://www.benzinga.com/news/23/12/36084951/roches-genentech-announces-phase-iii-results-for-inavolisib-combination-in-people-with-advanced-horm\"}],\"next_page_token\":\"MTcwMTc1NjQyNzAwMDAwMDAwMHwzNjA4NDk1MQ==\"}')\n"
     ]
    }
   ],
   "source": [
    "import requests\n",
    "\n",
    "url = \"https://data.alpaca.markets/v1beta1/news?sort=desc\"\n",
    "\n",
    "headers = {\n",
    "    \"accept\": \"application/json\",\n",
    "    \"APCA-API-KEY-ID\": \"PK2TC1483H7JWO9OT85G\",\n",
    "    \"APCA-API-SECRET-KEY\": \"5lkZQIeuL2GmRvuB0W8TlrjZom0m6ZPcRgct5rbD\"\n",
    "}\n",
    "\n",
    "response = requests.get(url, headers=headers)\n",
    "\n",
    "print(response.text)\n",
    "pprint(response.text)"
   ]
  }
 ],
 "metadata": {
  "kernelspec": {
   "display_name": "zipline",
   "language": "python",
   "name": "python3"
  },
  "language_info": {
   "codemirror_mode": {
    "name": "ipython",
    "version": 3
   },
   "file_extension": ".py",
   "mimetype": "text/x-python",
   "name": "python",
   "nbconvert_exporter": "python",
   "pygments_lexer": "ipython3",
   "version": "3.11.6"
  }
 },
 "nbformat": 4,
 "nbformat_minor": 2
}
