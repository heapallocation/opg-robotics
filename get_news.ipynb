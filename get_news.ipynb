{
 "cells": [
  {
   "cell_type": "code",
   "execution_count": 5,
   "metadata": {},
   "outputs": [],
   "source": [
    "# from datetime import date, datetime, timedelta\n",
    "# import pandas as pd\n",
    "# import mplfinance as mpf\n",
    "# from alpaca_trade_api.stream import Stream\n",
    "# from alpaca_trade_api.rest import REST, TimeFrame, TimeFrameUnit\n",
    "# import getpass\n",
    "import os\n",
    "import requests\n",
    "import json\n",
    "from pprint import pprint"
   ]
  },
  {
   "cell_type": "code",
   "execution_count": 6,
   "metadata": {},
   "outputs": [],
   "source": [
    "API_KEY = os.environ.get('ALPACA_API_KEY')\n",
    "SECRET_KEY = os.environ.get('ALPACA_SECRET_KEY')\n",
    "SYMBOLS_TEST = ['TSLA', 'AAPL']\n",
    "\n",
    "# Print all environment variables\n",
    "# for key, value in os.environ.items():\n",
    "#     print(f'{key}: {value}')"
   ]
  },
  {
   "cell_type": "code",
   "execution_count": null,
   "metadata": {},
   "outputs": [],
   "source": [
    "url = \"https://data.alpaca.markets/v1beta1/news?sort=desc\"\n",
    "\n",
    "headers = {\n",
    "    \"accept\": \"application/json\",\n",
    "    \"APCA-API-KEY-ID\": API_KEY,\n",
    "    \"APCA-API-SECRET-KEY\": SECRET_KEY\n",
    "}\n",
    "\n",
    "response = requests.get(url, headers=headers)\n",
    "\n",
    "print(response.text)\n",
    "pprint(response.text)"
   ]
  },
  {
   "cell_type": "code",
   "execution_count": 16,
   "metadata": {},
   "outputs": [
    {
     "name": "stdout",
     "output_type": "stream",
     "text": [
      "{'PFSI': ['2023-12-07T07:06:04Z'], 'ORCL': ['2023-12-07T07:03:43Z'], 'EWG': ['2023-12-07T07:01:52Z'], 'EWU': ['2023-12-07T07:01:27Z', '2023-12-07T07:01:05Z'], 'DASH': ['2023-12-07T06:25:12Z'], 'UBER': ['2023-12-07T06:25:12Z'], 'ASLE': ['2023-12-07T06:58:29Z'], 'BA': ['2023-12-07T06:58:29Z'], 'RMBL': ['2023-12-07T06:54:43Z'], 'AAGR': ['2023-12-07T06:52:41Z'], 'VCXA': ['2023-12-07T06:52:41Z']}\n"
     ]
    }
   ],
   "source": [
    "# Parse the response text into a JSON object\n",
    "news_items = json.loads(response.text)\n",
    "\n",
    "# Initialize an empty dictionary\n",
    "symbol_date_dict = {}\n",
    "\n",
    "# Iterate over the news items\n",
    "for item in news_items['news']:\n",
    "    # Get the created date\n",
    "    created_at = item['created_at']\n",
    "    \n",
    "    # Iterate over the symbols\n",
    "    for symbol in item['symbols']:\n",
    "        # If the symbol is not already a key in the dictionary, add it with a new list containing the current date\n",
    "        if symbol not in symbol_date_dict:\n",
    "            symbol_date_dict[symbol] = [created_at]\n",
    "        # If the symbol is already a key in the dictionary, append the current date to the existing list\n",
    "        else:\n",
    "            symbol_date_dict[symbol].append(created_at)\n",
    "\n",
    "print(symbol_date_dict)"
   ]
  }
 ],
 "metadata": {
  "kernelspec": {
   "display_name": "zipline",
   "language": "python",
   "name": "python3"
  },
  "language_info": {
   "codemirror_mode": {
    "name": "ipython",
    "version": 3
   },
   "file_extension": ".py",
   "mimetype": "text/x-python",
   "name": "python",
   "nbconvert_exporter": "python",
   "pygments_lexer": "ipython3",
   "version": "3.9.18"
  }
 },
 "nbformat": 4,
 "nbformat_minor": 2
}
