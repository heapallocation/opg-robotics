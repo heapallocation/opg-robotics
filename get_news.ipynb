{
 "cells": [
  {
   "cell_type": "code",
   "execution_count": 5,
   "metadata": {},
   "outputs": [],
   "source": [
    "# from datetime import date, datetime, timedelta\n",
    "# import pandas as pd\n",
    "# import mplfinance as mpf\n",
    "# from alpaca_trade_api.stream import Stream\n",
    "# from alpaca_trade_api.rest import REST, TimeFrame, TimeFrameUnit\n",
    "# import getpass\n",
    "import os\n",
    "import requests\n",
    "import json\n",
    "from pprint import pprint"
   ]
  },
  {
   "cell_type": "code",
   "execution_count": 6,
   "metadata": {},
   "outputs": [],
   "source": [
    "API_KEY = os.environ.get('ALPACA_API_KEY')\n",
    "SECRET_KEY = os.environ.get('ALPACA_SECRET_KEY')\n",
    "SYMBOLS_TEST = ['TSLA', 'AAPL']\n",
    "\n",
    "# Print all environment variables\n",
    "# for key, value in os.environ.items():\n",
    "#     print(f'{key}: {value}')"
   ]
  },
  {
   "cell_type": "code",
   "execution_count": 7,
   "metadata": {},
   "outputs": [
    {
     "name": "stdout",
     "output_type": "stream",
     "text": [
      "{\"news\":[{\"author\":\"Benzinga Neuro\",\"content\":\"\",\"created_at\":\"2023-12-07T07:06:05Z\",\"headline\":\"Is Trump's 2024 Presidential Run At Risk? Colorado Supreme Court's Stance Remains Unknown\",\"id\":36127707,\"images\":[{\"size\":\"large\",\"url\":\"https://cdn.benzinga.com/files/imagecache/2048x1536xUP/images/story/2023/Donald-Trump_19.jpeg\"},{\"size\":\"small\",\"url\":\"https://cdn.benzinga.com/files/imagecache/1024x768xUP/images/story/2023/Donald-Trump_19.jpeg\"},{\"size\":\"thumb\",\"url\":\"https://cdn.benzinga.com/files/imagecache/250x187xUP/images/story/2023/Donald-Trump_19.jpeg\"}],\"source\":\"benzinga\",\"summary\":\"Several justices, all appointed by Democrats, seemed to agree with a trial judge\\u0026#39;s assessment that the Capitol attack was, in fact, an insurrection.\",\"symbols\":[],\"updated_at\":\"2023-12-07T07:06:06Z\",\"url\":\"https://www.benzinga.com/news/23/12/36127707/is-trumps-2024-presidential-run-at-risk-colorado-supreme-courts-stance-remains-unknown\"},{\"author\":\"Benzinga Newsdesk\",\"content\":\"\",\"created_at\":\"2023-12-07T07:06:04Z\",\"headline\":\"PennyMac Financial Services Prices Upsized Private Offering of $750M 7.875% Senior Notes due 202\",\"id\":36127708,\"images\":[],\"source\":\"benzinga\",\"summary\":\"\",\"symbols\":[\"PFSI\"],\"updated_at\":\"2023-12-07T07:06:05Z\",\"url\":\"https://www.benzinga.com/news/23/12/36127708/pennymac-financial-services-prices-upsized-private-offering-of-750m-7-875-senior-notes-due-202\"},{\"author\":\"Benzinga Newsdesk\",\"content\":\"\",\"created_at\":\"2023-12-07T07:03:43Z\",\"headline\":\"Oracle Announces The Opening Of An Oracle Cloud Region In Colombia In Partnership With Claro\",\"id\":36127705,\"images\":[],\"source\":\"benzinga\",\"summary\":\"\",\"symbols\":[\"ORCL\"],\"updated_at\":\"2023-12-07T07:03:44Z\",\"url\":\"https://www.benzinga.com/news/23/12/36127705/oracle-announces-the-opening-of-an-oracle-cloud-region-in-colombia-in-partnership-with-claro\"},{\"author\":\"Benzinga Newsdesk\",\"content\":\"\",\"created_at\":\"2023-12-07T07:01:52Z\",\"headline\":\"Germany Industrial Production (MoM) For October -0.4% Vs. 0.2% Est.; -1.3% (Revised) Prior\",\"id\":36127695,\"images\":[],\"source\":\"benzinga\",\"summary\":\"\",\"symbols\":[\"EWG\"],\"updated_at\":\"2023-12-07T07:01:53Z\",\"url\":\"https://www.benzinga.com/economics/macro-economic-events/23/12/36127695/germany-industrial-production-mom-for-october-0-4-vs-0-2-est-1-3-revised-prior\"},{\"author\":\"Benzinga Newsdesk\",\"content\":\"\",\"created_at\":\"2023-12-07T07:01:27Z\",\"headline\":\"U.K. Halifax House Price Index (YoY) For November -1.0% Vs. -3.2% Prior\",\"id\":36127693,\"images\":[],\"source\":\"benzinga\",\"summary\":\"\",\"symbols\":[\"EWU\"],\"updated_at\":\"2023-12-07T07:01:27Z\",\"url\":\"https://www.benzinga.com/economics/macro-economic-events/23/12/36127693/u-k-halifax-house-price-index-yoy-for-november-1-0-vs-3-2-prior\"},{\"author\":\"Benzinga Newsdesk\",\"content\":\"\",\"created_at\":\"2023-12-07T07:01:05Z\",\"headline\":\"U.K. Halifax House Price Index (MoM) For November 0.5% Vs. 0.3% Est.; 1.1% Prior\",\"id\":36127689,\"images\":[],\"source\":\"benzinga\",\"summary\":\"\",\"symbols\":[\"EWU\"],\"updated_at\":\"2023-12-07T07:01:05Z\",\"url\":\"https://www.benzinga.com/economics/macro-economic-events/23/12/36127689/u-k-halifax-house-price-index-mom-for-november-0-5-vs-0-3-est-1-1-prior\"},{\"author\":\"Benzinga Neuro\",\"content\":\"\",\"created_at\":\"2023-12-07T06:25:12Z\",\"headline\":\"Doordash And Uber Eats Stop Tipping At Checkout, Add Fees For NYC Orders Amid Minimum Wage Dispute\",\"id\":36127567,\"images\":[{\"size\":\"large\",\"url\":\"https://cdn.benzinga.com/files/imagecache/2048x1536xUP/images/story/2023/doordash-shutter.jpeg\"},{\"size\":\"small\",\"url\":\"https://cdn.benzinga.com/files/imagecache/1024x768xUP/images/story/2023/doordash-shutter.jpeg\"},{\"size\":\"thumb\",\"url\":\"https://cdn.benzinga.com/files/imagecache/250x187xUP/images/story/2023/doordash-shutter.jpeg\"}],\"source\":\"benzinga\",\"summary\":\"The minimum wage rule, which the delivery companies unsuccessfully attempted to block, has compelled them to alter their tipping and fee structures.\",\"symbols\":[\"DASH\",\"UBER\"],\"updated_at\":\"2023-12-07T06:58:30Z\",\"url\":\"https://www.benzinga.com/news/23/12/36127567/doordash-and-uber-eats-stop-tipping-at-checkout-add-fees-for-nyc-orders-amid-minimum-wage-dispute\"},{\"author\":\"Benzinga Newsdesk\",\"content\":\"\",\"created_at\":\"2023-12-07T06:58:29Z\",\"headline\":\"Reported Earlier, AerSale's \\\"AerAware™\\\" Enhanced Flight Vision System Earns FAA Approval For Boeing B737NG Product Line\",\"id\":36127678,\"images\":[],\"source\":\"benzinga\",\"summary\":\"\",\"symbols\":[\"ASLE\",\"BA\"],\"updated_at\":\"2023-12-07T06:58:29Z\",\"url\":\"https://www.benzinga.com/news/23/12/36127678/reported-earlier-aersales-aeraware-enhanced-flight-vision-system-earns-faa-approval-for-boeing-b737n\"},{\"author\":\"Benzinga Newsdesk\",\"content\":\"\",\"created_at\":\"2023-12-07T06:54:43Z\",\"headline\":\"RumbleOn Concludes $100M Rights Offering With 81.1% Share Subscription\",\"id\":36127671,\"images\":[],\"source\":\"benzinga\",\"summary\":\"\",\"symbols\":[\"RMBL\"],\"updated_at\":\"2023-12-07T06:54:43Z\",\"url\":\"https://www.benzinga.com/news/23/12/36127671/rumbleon-concludes-100m-rights-offering-with-81-1-share-subscription\"},{\"author\":\"Benzinga Newsdesk\",\"content\":\"\",\"created_at\":\"2023-12-07T06:52:41Z\",\"headline\":\"10X Capital Venture Acquisition Corp. II Successfully Merges With African Agriculture\",\"id\":36127660,\"images\":[],\"source\":\"benzinga\",\"summary\":\"\",\"symbols\":[\"AAGR\",\"VCXA\"],\"updated_at\":\"2023-12-07T06:52:42Z\",\"url\":\"https://www.benzinga.com/news/23/12/36127660/10x-capital-venture-acquisition-corp-ii-successfully-merges-with-african-agriculture\"}],\"next_page_token\":\"MTcwMTkzMTk2MjAwMDAwMDAwMHwzNjEyNzY2MA==\"}\n",
      "('{\"news\":[{\"author\":\"Benzinga '\n",
      " 'Neuro\",\"content\":\"\",\"created_at\":\"2023-12-07T07:06:05Z\",\"headline\":\"Is '\n",
      " \"Trump's 2024 Presidential Run At Risk? Colorado Supreme Court's Stance \"\n",
      " 'Remains '\n",
      " 'Unknown\",\"id\":36127707,\"images\":[{\"size\":\"large\",\"url\":\"https://cdn.benzinga.com/files/imagecache/2048x1536xUP/images/story/2023/Donald-Trump_19.jpeg\"},{\"size\":\"small\",\"url\":\"https://cdn.benzinga.com/files/imagecache/1024x768xUP/images/story/2023/Donald-Trump_19.jpeg\"},{\"size\":\"thumb\",\"url\":\"https://cdn.benzinga.com/files/imagecache/250x187xUP/images/story/2023/Donald-Trump_19.jpeg\"}],\"source\":\"benzinga\",\"summary\":\"Several '\n",
      " 'justices, all appointed by Democrats, seemed to agree with a trial '\n",
      " 'judge\\\\u0026#39;s assessment that the Capitol attack was, in fact, an '\n",
      " 'insurrection.\",\"symbols\":[],\"updated_at\":\"2023-12-07T07:06:06Z\",\"url\":\"https://www.benzinga.com/news/23/12/36127707/is-trumps-2024-presidential-run-at-risk-colorado-supreme-courts-stance-remains-unknown\"},{\"author\":\"Benzinga '\n",
      " 'Newsdesk\",\"content\":\"\",\"created_at\":\"2023-12-07T07:06:04Z\",\"headline\":\"PennyMac '\n",
      " 'Financial Services Prices Upsized Private Offering of $750M 7.875% Senior '\n",
      " 'Notes due '\n",
      " '202\",\"id\":36127708,\"images\":[],\"source\":\"benzinga\",\"summary\":\"\",\"symbols\":[\"PFSI\"],\"updated_at\":\"2023-12-07T07:06:05Z\",\"url\":\"https://www.benzinga.com/news/23/12/36127708/pennymac-financial-services-prices-upsized-private-offering-of-750m-7-875-senior-notes-due-202\"},{\"author\":\"Benzinga '\n",
      " 'Newsdesk\",\"content\":\"\",\"created_at\":\"2023-12-07T07:03:43Z\",\"headline\":\"Oracle '\n",
      " 'Announces The Opening Of An Oracle Cloud Region In Colombia In Partnership '\n",
      " 'With '\n",
      " 'Claro\",\"id\":36127705,\"images\":[],\"source\":\"benzinga\",\"summary\":\"\",\"symbols\":[\"ORCL\"],\"updated_at\":\"2023-12-07T07:03:44Z\",\"url\":\"https://www.benzinga.com/news/23/12/36127705/oracle-announces-the-opening-of-an-oracle-cloud-region-in-colombia-in-partnership-with-claro\"},{\"author\":\"Benzinga '\n",
      " 'Newsdesk\",\"content\":\"\",\"created_at\":\"2023-12-07T07:01:52Z\",\"headline\":\"Germany '\n",
      " 'Industrial Production (MoM) For October -0.4% Vs. 0.2% Est.; -1.3% (Revised) '\n",
      " 'Prior\",\"id\":36127695,\"images\":[],\"source\":\"benzinga\",\"summary\":\"\",\"symbols\":[\"EWG\"],\"updated_at\":\"2023-12-07T07:01:53Z\",\"url\":\"https://www.benzinga.com/economics/macro-economic-events/23/12/36127695/germany-industrial-production-mom-for-october-0-4-vs-0-2-est-1-3-revised-prior\"},{\"author\":\"Benzinga '\n",
      " 'Newsdesk\",\"content\":\"\",\"created_at\":\"2023-12-07T07:01:27Z\",\"headline\":\"U.K. '\n",
      " 'Halifax House Price Index (YoY) For November -1.0% Vs. -3.2% '\n",
      " 'Prior\",\"id\":36127693,\"images\":[],\"source\":\"benzinga\",\"summary\":\"\",\"symbols\":[\"EWU\"],\"updated_at\":\"2023-12-07T07:01:27Z\",\"url\":\"https://www.benzinga.com/economics/macro-economic-events/23/12/36127693/u-k-halifax-house-price-index-yoy-for-november-1-0-vs-3-2-prior\"},{\"author\":\"Benzinga '\n",
      " 'Newsdesk\",\"content\":\"\",\"created_at\":\"2023-12-07T07:01:05Z\",\"headline\":\"U.K. '\n",
      " 'Halifax House Price Index (MoM) For November 0.5% Vs. 0.3% Est.; 1.1% '\n",
      " 'Prior\",\"id\":36127689,\"images\":[],\"source\":\"benzinga\",\"summary\":\"\",\"symbols\":[\"EWU\"],\"updated_at\":\"2023-12-07T07:01:05Z\",\"url\":\"https://www.benzinga.com/economics/macro-economic-events/23/12/36127689/u-k-halifax-house-price-index-mom-for-november-0-5-vs-0-3-est-1-1-prior\"},{\"author\":\"Benzinga '\n",
      " 'Neuro\",\"content\":\"\",\"created_at\":\"2023-12-07T06:25:12Z\",\"headline\":\"Doordash '\n",
      " 'And Uber Eats Stop Tipping At Checkout, Add Fees For NYC Orders Amid Minimum '\n",
      " 'Wage '\n",
      " 'Dispute\",\"id\":36127567,\"images\":[{\"size\":\"large\",\"url\":\"https://cdn.benzinga.com/files/imagecache/2048x1536xUP/images/story/2023/doordash-shutter.jpeg\"},{\"size\":\"small\",\"url\":\"https://cdn.benzinga.com/files/imagecache/1024x768xUP/images/story/2023/doordash-shutter.jpeg\"},{\"size\":\"thumb\",\"url\":\"https://cdn.benzinga.com/files/imagecache/250x187xUP/images/story/2023/doordash-shutter.jpeg\"}],\"source\":\"benzinga\",\"summary\":\"The '\n",
      " 'minimum wage rule, which the delivery companies unsuccessfully attempted to '\n",
      " 'block, has compelled them to alter their tipping and fee '\n",
      " 'structures.\",\"symbols\":[\"DASH\",\"UBER\"],\"updated_at\":\"2023-12-07T06:58:30Z\",\"url\":\"https://www.benzinga.com/news/23/12/36127567/doordash-and-uber-eats-stop-tipping-at-checkout-add-fees-for-nyc-orders-amid-minimum-wage-dispute\"},{\"author\":\"Benzinga '\n",
      " 'Newsdesk\",\"content\":\"\",\"created_at\":\"2023-12-07T06:58:29Z\",\"headline\":\"Reported '\n",
      " 'Earlier, AerSale\\'s \\\\\"AerAware™\\\\\" Enhanced Flight Vision System Earns FAA '\n",
      " 'Approval For Boeing B737NG Product '\n",
      " 'Line\",\"id\":36127678,\"images\":[],\"source\":\"benzinga\",\"summary\":\"\",\"symbols\":[\"ASLE\",\"BA\"],\"updated_at\":\"2023-12-07T06:58:29Z\",\"url\":\"https://www.benzinga.com/news/23/12/36127678/reported-earlier-aersales-aeraware-enhanced-flight-vision-system-earns-faa-approval-for-boeing-b737n\"},{\"author\":\"Benzinga '\n",
      " 'Newsdesk\",\"content\":\"\",\"created_at\":\"2023-12-07T06:54:43Z\",\"headline\":\"RumbleOn '\n",
      " 'Concludes $100M Rights Offering With 81.1% Share '\n",
      " 'Subscription\",\"id\":36127671,\"images\":[],\"source\":\"benzinga\",\"summary\":\"\",\"symbols\":[\"RMBL\"],\"updated_at\":\"2023-12-07T06:54:43Z\",\"url\":\"https://www.benzinga.com/news/23/12/36127671/rumbleon-concludes-100m-rights-offering-with-81-1-share-subscription\"},{\"author\":\"Benzinga '\n",
      " 'Newsdesk\",\"content\":\"\",\"created_at\":\"2023-12-07T06:52:41Z\",\"headline\":\"10X '\n",
      " 'Capital Venture Acquisition Corp. II Successfully Merges With African '\n",
      " 'Agriculture\",\"id\":36127660,\"images\":[],\"source\":\"benzinga\",\"summary\":\"\",\"symbols\":[\"AAGR\",\"VCXA\"],\"updated_at\":\"2023-12-07T06:52:42Z\",\"url\":\"https://www.benzinga.com/news/23/12/36127660/10x-capital-venture-acquisition-corp-ii-successfully-merges-with-african-agriculture\"}],\"next_page_token\":\"MTcwMTkzMTk2MjAwMDAwMDAwMHwzNjEyNzY2MA==\"}')\n"
     ]
    }
   ],
   "source": [
    "url = \"https://data.alpaca.markets/v1beta1/news?sort=desc\"\n",
    "\n",
    "headers = {\n",
    "    \"accept\": \"application/json\",\n",
    "    \"APCA-API-KEY-ID\": API_KEY,\n",
    "    \"APCA-API-SECRET-KEY\": SECRET_KEY\n",
    "}\n",
    "\n",
    "response = requests.get(url, headers=headers)\n",
    "\n",
    "print(response.text)\n",
    "pprint(response.text)"
   ]
  },
  {
   "cell_type": "code",
   "execution_count": 15,
   "metadata": {},
   "outputs": [
    {
     "name": "stdout",
     "output_type": "stream",
     "text": [
      "{'PFSI': '2023-12-07T07:06:04Z', 'ORCL': '2023-12-07T07:03:43Z', 'EWG': '2023-12-07T07:01:52Z', 'EWU': '2023-12-07T07:01:05Z', 'DASH': '2023-12-07T06:25:12Z', 'UBER': '2023-12-07T06:25:12Z', 'ASLE': '2023-12-07T06:58:29Z', 'BA': '2023-12-07T06:58:29Z', 'RMBL': '2023-12-07T06:54:43Z', 'AAGR': '2023-12-07T06:52:41Z', 'VCXA': '2023-12-07T06:52:41Z'}\n"
     ]
    }
   ],
   "source": [
    "# Parse the response text into a JSON object\n",
    "news_items = json.loads(response.text)\n",
    "\n",
    "# Initialize an empty dictionary\n",
    "symbol_date_dict = {}\n",
    "\n",
    "# Iterate over the news items\n",
    "for item in news_items['news']:\n",
    "\n",
    "    # Get the created date\n",
    "    created_at = item['created_at']\n",
    "    \n",
    "    # Iterate over the symbols\n",
    "    for symbol in item['symbols']:\n",
    "        # Add an entry to the dictionary\n",
    "        symbol_date_dict[symbol] = created_at\n",
    "\n",
    "print(symbol_date_dict)"
   ]
  }
 ],
 "metadata": {
  "kernelspec": {
   "display_name": "zipline",
   "language": "python",
   "name": "python3"
  },
  "language_info": {
   "codemirror_mode": {
    "name": "ipython",
    "version": 3
   },
   "file_extension": ".py",
   "mimetype": "text/x-python",
   "name": "python",
   "nbconvert_exporter": "python",
   "pygments_lexer": "ipython3",
   "version": "3.9.18"
  }
 },
 "nbformat": 4,
 "nbformat_minor": 2
}
