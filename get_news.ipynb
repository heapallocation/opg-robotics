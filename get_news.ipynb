{
 "cells": [
  {
   "cell_type": "code",
   "execution_count": 21,
   "metadata": {},
   "outputs": [],
   "source": [
    "# from datetime import date, datetime, timedelta\n",
    "import pandas as pd\n",
    "# import mplfinance as mpf\n",
    "# from alpaca_trade_api.stream import Stream\n",
    "# from alpaca_trade_api.rest import REST, TimeFrame, TimeFrameUnit\n",
    "# import getpass\n",
    "import os\n",
    "import requests\n",
    "import json\n",
    "from pprint import pprint"
   ]
  },
  {
   "cell_type": "code",
   "execution_count": 22,
   "metadata": {},
   "outputs": [],
   "source": [
    "API_KEY = os.environ.get('ALPACA_API_KEY')\n",
    "SECRET_KEY = os.environ.get('ALPACA_SECRET_KEY')\n",
    "SYMBOLS_TEST = ['TSLA', 'AAPL']\n",
    "\n",
    "# Print all environment variables\n",
    "# for key, value in os.environ.items():\n",
    "#     print(f'{key}: {value}')"
   ]
  },
  {
   "cell_type": "code",
   "execution_count": null,
   "metadata": {},
   "outputs": [],
   "source": [
    "url = \"https://data.alpaca.markets/v1beta1/news?sort=desc\"\n",
    "\n",
    "headers = {\n",
    "    \"accept\": \"application/json\",\n",
    "    \"APCA-API-KEY-ID\": API_KEY,\n",
    "    \"APCA-API-SECRET-KEY\": SECRET_KEY\n",
    "}\n",
    "\n",
    "response = requests.get(url, headers=headers)\n",
    "\n",
    "print(response.text)\n",
    "pprint(response.text)"
   ]
  },
  {
   "cell_type": "code",
   "execution_count": 25,
   "metadata": {},
   "outputs": [
    {
     "name": "stdout",
     "output_type": "stream",
     "text": [
      "  symbol                created_at\n",
      "0   RIVN 2023-12-08 08:01:07+00:00\n",
      "1   TSLA 2023-12-08 08:01:07+00:00\n",
      "2     EA 2023-12-08 07:59:55+00:00\n",
      "3   FFIE 2023-12-08 07:55:44+00:00\n",
      "4   VTMX 2023-12-08 07:50:40+00:00\n",
      "5   TTWO 2023-12-08 07:47:24+00:00\n",
      "6   MCRB 2023-12-08 07:45:30+00:00\n",
      "7     MT 2023-12-08 07:42:35+00:00\n",
      "8   TSLA 2023-12-08 04:09:11+00:00\n",
      "9   SYRE 2023-12-08 07:26:06+00:00\n"
     ]
    }
   ],
   "source": [
    "# Parse the response text into a JSON object\n",
    "news_items = json.loads(response.text)\n",
    "\n",
    "# Flatten the data into a list of dictionaries\n",
    "data = [{'symbol': symbol, 'created_at': item['created_at']} for item in news_items['news'] for symbol in item['symbols']]\n",
    "\n",
    "# Create a DataFrame from the list\n",
    "df = pd.DataFrame(data)\n",
    "\n",
    "# Convert the 'created_at' column to datetime format\n",
    "df['created_at'] = pd.to_datetime(df['created_at'])\n",
    "\n",
    "print(df)"
   ]
  },
  {
   "cell_type": "code",
   "execution_count": 26,
   "metadata": {},
   "outputs": [
    {
     "name": "stdout",
     "output_type": "stream",
     "text": [
      "  symbol                created_at\n",
      "0   RIVN 2023-12-08 08:01:07+00:00\n",
      "1   TSLA 2023-12-08 08:01:07+00:00\n",
      "2     EA 2023-12-08 07:59:55+00:00\n",
      "3   FFIE 2023-12-08 07:55:44+00:00\n",
      "4   VTMX 2023-12-08 07:50:40+00:00\n",
      "5   TTWO 2023-12-08 07:47:24+00:00\n",
      "6   MCRB 2023-12-08 07:45:30+00:00\n",
      "7     MT 2023-12-08 07:42:35+00:00\n",
      "8   TSLA 2023-12-08 04:09:11+00:00\n",
      "9   SYRE 2023-12-08 07:26:06+00:00\n"
     ]
    }
   ],
   "source": [
    "print(df)"
   ]
  }
 ],
 "metadata": {
  "kernelspec": {
   "display_name": "zipline",
   "language": "python",
   "name": "python3"
  },
  "language_info": {
   "codemirror_mode": {
    "name": "ipython",
    "version": 3
   },
   "file_extension": ".py",
   "mimetype": "text/x-python",
   "name": "python",
   "nbconvert_exporter": "python",
   "pygments_lexer": "ipython3",
   "version": "3.9.18"
  }
 },
 "nbformat": 4,
 "nbformat_minor": 2
}
