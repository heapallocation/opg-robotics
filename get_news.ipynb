{
 "cells": [
  {
   "cell_type": "code",
   "execution_count": 90,
   "metadata": {},
   "outputs": [],
   "source": [
    "# from datetime import date, datetime, timedelta\n",
    "import pandas as pd\n",
    "# import mplfinance as mpf\n",
    "# from alpaca_trade_api.stream import Stream\n",
    "# from alpaca_trade_api.rest import REST, TimeFrame, TimeFrameUnit\n",
    "# import getpass\n",
    "import os\n",
    "import requests\n",
    "import json\n",
    "from pprint import pprint"
   ]
  },
  {
   "cell_type": "code",
   "execution_count": 91,
   "metadata": {},
   "outputs": [
    {
     "name": "stdout",
     "output_type": "stream",
     "text": [
      "2022-11-01\n",
      "2022-12-31\n"
     ]
    }
   ],
   "source": [
    "API_KEY = os.environ.get('ALPACA_API_KEY')\n",
    "SECRET_KEY = os.environ.get('ALPACA_SECRET_KEY')\n",
    "symbols = ['TSLA', 'AAPL']\n",
    "# start_date = (pd.Timestamp.now() - pd.Timedelta(days=100)).date()\n",
    "# end_date = pd.Timestamp.now().date()\n",
    "symbols_string = ','.join(symbols)\n",
    "\n",
    "start_date = pd.Timestamp('2022-11`-01').date()\n",
    "end_date = pd.Timestamp('2022-12-31').date()\n",
    "\n",
    "print(start_date)\n",
    "print(end_date)\n",
    "\n",
    "# Print all environment variables\n",
    "# for key, value in os.environ.items():\n",
    "#     print(f'{key}: {value}')"
   ]
  },
  {
   "cell_type": "code",
   "execution_count": 92,
   "metadata": {},
   "outputs": [
    {
     "name": "stdout",
     "output_type": "stream",
     "text": [
      "{\"news\":[{\"author\":\"Wayne Duggan\",\"content\":\"\",\"created_at\":\"2022-12-30T21:09:29Z\",\"headline\":\"What's Next For Stocks After S\\u0026P 500 Wraps Roughest Year Since 2008?\",\"id\":30240477,\"images\":[{\"size\":\"large\",\"url\":\"https://cdn.benzinga.com/files/imagecache/2048x1536xUP/images/story/2022/12/30/shutterstock_176534375.jpg\"},{\"size\":\"small\",\"url\":\"https://cdn.benzinga.com/files/imagecache/1024x768xUP/images/story/2022/12/30/shutterstock_176534375.jpg\"},{\"size\":\"thumb\",\"url\":\"https://cdn.benzinga.com/files/imagecache/250x187xUP/images/story/2022/12/30/shutterstock_176534375.jpg\"}],\"source\":\"benzinga\",\"summary\":\"The SPDR S\\u0026amp;P 500 ETF Trust (NYSE: SPY) 500 declined for the fourth consecutive week as the stock market completed its worst year in more than a decade.\",\"symbols\":[\"CAG\",\"CEG\",\"GNRC\",\"LUV\",\"LW\",\"MTCH\",\"OTLK\",\"SPY\",\"STZ\",\"TSLA\",\"WBA\"],\"updated_at\":\"2022-12-30T21:09:30Z\",\"url\":\"https://www.benzinga.com/news/22/12/30240477/whats-next-for-stocks-after-s-p-500-wraps-roughest-year-since-2008\"},{\"author\":\"Wayne Duggan\",\"content\":\"\",\"created_at\":\"2022-12-30T20:55:48Z\",\"headline\":\"Huge Rebound For Tesla? Lucid Bankruptcy? Auto Analyst's 10 Bold Predictions For 2023\",\"id\":30240328,\"images\":[{\"size\":\"large\",\"url\":\"https://cdn.benzinga.com/files/imagecache/2048x1536xUP/images/story/2022/12/30/lucid-air-dream-delivery-lot.jpg\"},{\"size\":\"small\",\"url\":\"https://cdn.benzinga.com/files/imagecache/1024x768xUP/images/story/2022/12/30/lucid-air-dream-delivery-lot.jpg\"},{\"size\":\"thumb\",\"url\":\"https://cdn.benzinga.com/files/imagecache/250x187xUP/images/story/2022/12/30/lucid-air-dream-delivery-lot.jpg\"}],\"source\":\"benzinga\",\"summary\":\"There\\u0026#39;s no question 2022 has been a brutal year for auto stock investors.\",\"symbols\":[\"AAP\",\"AN\",\"APTV\",\"F\",\"FSR\",\"GM\",\"LCID\",\"ORLY\",\"RIVN\",\"TSLA\"],\"updated_at\":\"2022-12-30T20:55:48Z\",\"url\":\"https://www.benzinga.com/analyst-ratings/analyst-color/22/12/30240328/huge-rebound-for-tesla-lucid-bankruptcy-auto-analysts-10-bold-predictions-for-2023\"},{\"author\":\"Lisa Levin\",\"content\":\"\",\"created_at\":\"2022-12-30T18:40:58Z\",\"headline\":\"This Ford Options Trader Is Betting The Stock Will Rise At Least This Much By January Expiration\",\"id\":30233842,\"images\":[{\"size\":\"large\",\"url\":\"https://cdn.benzinga.com/files/imagecache/2048x1536xUP/images/story/2022/12/30/shutterstock_2167782495.jpg\"},{\"size\":\"small\",\"url\":\"https://cdn.benzinga.com/files/imagecache/1024x768xUP/images/story/2022/12/30/shutterstock_2167782495.jpg\"},{\"size\":\"thumb\",\"url\":\"https://cdn.benzinga.com/files/imagecache/250x187xUP/images/story/2022/12/30/shutterstock_2167782495.jpg\"}],\"source\":\"benzinga\",\"summary\":\"Auto stocks recorded gains on Thursday, with stocks including  Tesla, Inc. (NASDAQ: TSLA),  Ford Motor Company (NYSE: F) and  General Motors Company (NYSE: \",\"symbols\":[\"F\",\"GM\",\"TSLA\"],\"updated_at\":\"2022-12-30T19:39:25Z\",\"url\":\"https://www.benzinga.com/trading-ideas/long-ideas/22/12/30233842/this-ford-options-trader-is-betting-the-stock-will-rise-at-least-this-much-by-january-ex\"},{\"author\":\"Sue Strachan\",\"content\":\"\",\"created_at\":\"2022-12-30T18:20:01Z\",\"headline\":\"Benzinga's Top 5 Articles For 2022 — AKA The Year Your Grandparents Found Out Who Elon Musk Is\",\"id\":30219131,\"images\":[{\"size\":\"large\",\"url\":\"https://cdn.benzinga.com/files/imagecache/2048x1536xUP/images/story/2022/12/29/elon.moonshutterstock_2086349374.jpg\"},{\"size\":\"small\",\"url\":\"https://cdn.benzinga.com/files/imagecache/1024x768xUP/images/story/2022/12/29/elon.moonshutterstock_2086349374.jpg\"},{\"size\":\"thumb\",\"url\":\"https://cdn.benzinga.com/files/imagecache/250x187xUP/images/story/2022/12/29/elon.moonshutterstock_2086349374.jpg\"}],\"source\":\"benzinga\",\"summary\":\"Who could forget 2021 and the cryptocurrency craze?\",\"symbols\":[\"BTCUSD\",\"DOGEUSD\",\"TSLA\"],\"updated_at\":\"2022-12-30T18:20:02Z\",\"url\":\"https://www.benzinga.com/markets/cryptocurrency/22/12/30219131/benzingas-top-5-articles-for-2022-aka-the-year-your-grandparents-found-out-who-elon-musk-i\"},{\"author\":\"Charles Gross\",\"content\":\"\",\"created_at\":\"2022-12-30T17:52:25Z\",\"headline\":\"Top Wall Street Bets Mentions for Friday December 30, 2022: TSLA, AAPL, JPM, NVDA, AMC, AMZN, NFLX, ASTS, NIO, GME\",\"id\":30239495,\"images\":[],\"source\":\"benzinga\",\"summary\":\"\",\"symbols\":[\"AAPL\",\"AMC\",\"AMZN\",\"ASTS\",\"GME\",\"JPM\",\"NFLX\",\"NIO\",\"NVDA\",\"TSLA\"],\"updated_at\":\"2022-12-30T17:52:25Z\",\"url\":\"https://www.benzinga.com/news/22/12/30239495/top-wall-street-bets-mentions-for-friday-december-30-2022-tsla-aapl-jpm-nvda-amc-amzn-nflx-asts-nio\"},{\"author\":\"Benzinga Newsdesk\",\"content\":\"\",\"created_at\":\"2022-12-30T17:06:14Z\",\"headline\":\"'Tesla announces upcoming launch of Model S and Model X in China' -Electrek Report\",\"id\":30238959,\"images\":[],\"source\":\"benzinga\",\"summary\":\"\",\"symbols\":[\"TSLA\"],\"updated_at\":\"2022-12-30T17:06:14Z\",\"url\":\"https://www.benzinga.com/news/22/12/30238959/tesla-announces-upcoming-launch-of-model-s-and-model-x-in-china-electrek-report\"},{\"author\":\"Benzinga Newsdesk\",\"content\":\"\",\"created_at\":\"2022-12-30T16:54:01Z\",\"headline\":\"'Tim Cook relayed concern over app store curbs to Japan PM' -Nikkei\",\"id\":30238792,\"images\":[],\"source\":\"benzinga\",\"summary\":\"\",\"symbols\":[\"AAPL\"],\"updated_at\":\"2022-12-30T16:54:02Z\",\"url\":\"https://www.benzinga.com/news/22/12/30238792/tim-cook-relayed-concern-over-app-store-curbs-to-japan-pm-nikkei\"},{\"author\":\"Murtuza Merchant\",\"content\":\"\",\"created_at\":\"2022-12-30T15:47:21Z\",\"headline\":\"Dogecoin Mascot Kabosu Cheats Death, Bounces Back; Experts Share Investment Strategies For Meme Coin\",\"id\":30235763,\"images\":[{\"size\":\"large\",\"url\":\"https://cdn.benzinga.com/files/imagecache/2048x1536xUP/images/story/2022/12/30/dog-g486ac3126_1920.jpg\"},{\"size\":\"small\",\"url\":\"https://cdn.benzinga.com/files/imagecache/1024x768xUP/images/story/2022/12/30/dog-g486ac3126_1920.jpg\"},{\"size\":\"thumb\",\"url\":\"https://cdn.benzinga.com/files/imagecache/250x187xUP/images/story/2022/12/30/dog-g486ac3126_1920.jpg\"}],\"source\":\"benzinga\",\"summary\":\"Dogecoin (CRYPTO: DOGE) mascot Kabosu, a 17-year-old Shiba Inu, has made a “miraculous” recovery after falling “very dangerously” ill \",\"symbols\":[\"DOGEUSD\",\"ETHUSD\",\"SHIBUSD\",\"TSLA\"],\"updated_at\":\"2022-12-30T15:47:22Z\",\"url\":\"https://www.benzinga.com/markets/cryptocurrency/22/12/30235763/dogecoin-mascot-kabosu-cheats-death-bounces-back-experts-share-investment-strategies-for-m\"},{\"author\":\"Franca Quarneti\",\"content\":\"\",\"created_at\":\"2022-12-30T15:33:50Z\",\"headline\":\"Which Video Game Did People Quit (And Complete) The Most In 2022? Hint: It's An Elon Musk Favorite\",\"id\":30217523,\"images\":[{\"size\":\"large\",\"url\":\"https://cdn.benzinga.com/files/imagecache/2048x1536xUP/images/story/2022/12/28/jeshoots-com-wrgaix9dhi0-unsplash.jpg\"},{\"size\":\"small\",\"url\":\"https://cdn.benzinga.com/files/imagecache/1024x768xUP/images/story/2022/12/28/jeshoots-com-wrgaix9dhi0-unsplash.jpg\"},{\"size\":\"thumb\",\"url\":\"https://cdn.benzinga.com/files/imagecache/250x187xUP/images/story/2022/12/28/jeshoots-com-wrgaix9dhi0-unsplash.jpg\"}],\"source\":\"benzinga\",\"summary\":\"2022 has left us with some incredible video game titles, but there’s one that has obsessed gamers from every corner of the globe.\",\"symbols\":[\"NCBDF\",\"SONY\",\"TCEHY\",\"TSLA\"],\"updated_at\":\"2022-12-30T15:33:50Z\",\"url\":\"https://www.benzinga.com/general/entertainment/22/12/30217523/which-video-game-did-people-quit-and-complete-the-most-in-2022-hint-its-an-elon-musk-favori\"},{\"author\":\"Nina Zdinjak\",\"content\":\"\",\"created_at\":\"2022-12-29T18:09:51Z\",\"headline\":\"From Cannabis Killing 100% Cancer Cells To Snoop Dogg Microwaving His Blunts: Benzinga's Most-Read Marijuana Stories In 2022\",\"id\":30227139,\"images\":[{\"size\":\"large\",\"url\":\"https://cdn.benzinga.com/files/imagecache/2048x1536xUP/images/story/2022/12/29/new_project84.jpg\"},{\"size\":\"small\",\"url\":\"https://cdn.benzinga.com/files/imagecache/1024x768xUP/images/story/2022/12/29/new_project84.jpg\"},{\"size\":\"thumb\",\"url\":\"https://cdn.benzinga.com/files/imagecache/250x187xUP/images/story/2022/12/29/new_project84.jpg\"}],\"source\":\"benzinga\",\"summary\":\"Here goes another trying year for the cannabis industry.\",\"symbols\":[\"AMZN\",\"GOOGL\",\"META\",\"NFLX\",\"TRSSF\",\"TSLA\"],\"updated_at\":\"2022-12-30T15:11:38Z\",\"url\":\"https://www.benzinga.com/markets/cannabis/22/12/30227139/from-cannabis-killing-100-cancer-cells-to-snoop-dog-microwaving-his-blunts-benzingas-most-read-m\"}],\"next_page_token\":\"MTY3MjQxMzA5ODAwMDAwMDAwMHwzMDIyNzEzOQ==\"}\n",
      "('{\"news\":[{\"author\":\"Wayne '\n",
      " 'Duggan\",\"content\":\"\",\"created_at\":\"2022-12-30T21:09:29Z\",\"headline\":\"What\\'s '\n",
      " 'Next For Stocks After S\\\\u0026P 500 Wraps Roughest Year Since '\n",
      " '2008?\",\"id\":30240477,\"images\":[{\"size\":\"large\",\"url\":\"https://cdn.benzinga.com/files/imagecache/2048x1536xUP/images/story/2022/12/30/shutterstock_176534375.jpg\"},{\"size\":\"small\",\"url\":\"https://cdn.benzinga.com/files/imagecache/1024x768xUP/images/story/2022/12/30/shutterstock_176534375.jpg\"},{\"size\":\"thumb\",\"url\":\"https://cdn.benzinga.com/files/imagecache/250x187xUP/images/story/2022/12/30/shutterstock_176534375.jpg\"}],\"source\":\"benzinga\",\"summary\":\"The '\n",
      " 'SPDR S\\\\u0026amp;P 500 ETF Trust (NYSE: SPY) 500 declined for the fourth '\n",
      " 'consecutive week as the stock market completed its worst year in more than a '\n",
      " 'decade.\",\"symbols\":[\"CAG\",\"CEG\",\"GNRC\",\"LUV\",\"LW\",\"MTCH\",\"OTLK\",\"SPY\",\"STZ\",\"TSLA\",\"WBA\"],\"updated_at\":\"2022-12-30T21:09:30Z\",\"url\":\"https://www.benzinga.com/news/22/12/30240477/whats-next-for-stocks-after-s-p-500-wraps-roughest-year-since-2008\"},{\"author\":\"Wayne '\n",
      " 'Duggan\",\"content\":\"\",\"created_at\":\"2022-12-30T20:55:48Z\",\"headline\":\"Huge '\n",
      " \"Rebound For Tesla? Lucid Bankruptcy? Auto Analyst's 10 Bold Predictions For \"\n",
      " '2023\",\"id\":30240328,\"images\":[{\"size\":\"large\",\"url\":\"https://cdn.benzinga.com/files/imagecache/2048x1536xUP/images/story/2022/12/30/lucid-air-dream-delivery-lot.jpg\"},{\"size\":\"small\",\"url\":\"https://cdn.benzinga.com/files/imagecache/1024x768xUP/images/story/2022/12/30/lucid-air-dream-delivery-lot.jpg\"},{\"size\":\"thumb\",\"url\":\"https://cdn.benzinga.com/files/imagecache/250x187xUP/images/story/2022/12/30/lucid-air-dream-delivery-lot.jpg\"}],\"source\":\"benzinga\",\"summary\":\"There\\\\u0026#39;s '\n",
      " 'no question 2022 has been a brutal year for auto stock '\n",
      " 'investors.\",\"symbols\":[\"AAP\",\"AN\",\"APTV\",\"F\",\"FSR\",\"GM\",\"LCID\",\"ORLY\",\"RIVN\",\"TSLA\"],\"updated_at\":\"2022-12-30T20:55:48Z\",\"url\":\"https://www.benzinga.com/analyst-ratings/analyst-color/22/12/30240328/huge-rebound-for-tesla-lucid-bankruptcy-auto-analysts-10-bold-predictions-for-2023\"},{\"author\":\"Lisa '\n",
      " 'Levin\",\"content\":\"\",\"created_at\":\"2022-12-30T18:40:58Z\",\"headline\":\"This '\n",
      " 'Ford Options Trader Is Betting The Stock Will Rise At Least This Much By '\n",
      " 'January '\n",
      " 'Expiration\",\"id\":30233842,\"images\":[{\"size\":\"large\",\"url\":\"https://cdn.benzinga.com/files/imagecache/2048x1536xUP/images/story/2022/12/30/shutterstock_2167782495.jpg\"},{\"size\":\"small\",\"url\":\"https://cdn.benzinga.com/files/imagecache/1024x768xUP/images/story/2022/12/30/shutterstock_2167782495.jpg\"},{\"size\":\"thumb\",\"url\":\"https://cdn.benzinga.com/files/imagecache/250x187xUP/images/story/2022/12/30/shutterstock_2167782495.jpg\"}],\"source\":\"benzinga\",\"summary\":\"Auto '\n",
      " 'stocks recorded gains on Thursday, with stocks including  Tesla, Inc. '\n",
      " '(NASDAQ: TSLA),  Ford Motor Company (NYSE: F) and  General Motors Company '\n",
      " '(NYSE: '\n",
      " '\",\"symbols\":[\"F\",\"GM\",\"TSLA\"],\"updated_at\":\"2022-12-30T19:39:25Z\",\"url\":\"https://www.benzinga.com/trading-ideas/long-ideas/22/12/30233842/this-ford-options-trader-is-betting-the-stock-will-rise-at-least-this-much-by-january-ex\"},{\"author\":\"Sue '\n",
      " 'Strachan\",\"content\":\"\",\"created_at\":\"2022-12-30T18:20:01Z\",\"headline\":\"Benzinga\\'s '\n",
      " 'Top 5 Articles For 2022 — AKA The Year Your Grandparents Found Out Who Elon '\n",
      " 'Musk '\n",
      " 'Is\",\"id\":30219131,\"images\":[{\"size\":\"large\",\"url\":\"https://cdn.benzinga.com/files/imagecache/2048x1536xUP/images/story/2022/12/29/elon.moonshutterstock_2086349374.jpg\"},{\"size\":\"small\",\"url\":\"https://cdn.benzinga.com/files/imagecache/1024x768xUP/images/story/2022/12/29/elon.moonshutterstock_2086349374.jpg\"},{\"size\":\"thumb\",\"url\":\"https://cdn.benzinga.com/files/imagecache/250x187xUP/images/story/2022/12/29/elon.moonshutterstock_2086349374.jpg\"}],\"source\":\"benzinga\",\"summary\":\"Who '\n",
      " 'could forget 2021 and the cryptocurrency '\n",
      " 'craze?\",\"symbols\":[\"BTCUSD\",\"DOGEUSD\",\"TSLA\"],\"updated_at\":\"2022-12-30T18:20:02Z\",\"url\":\"https://www.benzinga.com/markets/cryptocurrency/22/12/30219131/benzingas-top-5-articles-for-2022-aka-the-year-your-grandparents-found-out-who-elon-musk-i\"},{\"author\":\"Charles '\n",
      " 'Gross\",\"content\":\"\",\"created_at\":\"2022-12-30T17:52:25Z\",\"headline\":\"Top Wall '\n",
      " 'Street Bets Mentions for Friday December 30, 2022: TSLA, AAPL, JPM, NVDA, '\n",
      " 'AMC, AMZN, NFLX, ASTS, NIO, '\n",
      " 'GME\",\"id\":30239495,\"images\":[],\"source\":\"benzinga\",\"summary\":\"\",\"symbols\":[\"AAPL\",\"AMC\",\"AMZN\",\"ASTS\",\"GME\",\"JPM\",\"NFLX\",\"NIO\",\"NVDA\",\"TSLA\"],\"updated_at\":\"2022-12-30T17:52:25Z\",\"url\":\"https://www.benzinga.com/news/22/12/30239495/top-wall-street-bets-mentions-for-friday-december-30-2022-tsla-aapl-jpm-nvda-amc-amzn-nflx-asts-nio\"},{\"author\":\"Benzinga '\n",
      " 'Newsdesk\",\"content\":\"\",\"created_at\":\"2022-12-30T17:06:14Z\",\"headline\":\"\\'Tesla '\n",
      " \"announces upcoming launch of Model S and Model X in China' -Electrek \"\n",
      " 'Report\",\"id\":30238959,\"images\":[],\"source\":\"benzinga\",\"summary\":\"\",\"symbols\":[\"TSLA\"],\"updated_at\":\"2022-12-30T17:06:14Z\",\"url\":\"https://www.benzinga.com/news/22/12/30238959/tesla-announces-upcoming-launch-of-model-s-and-model-x-in-china-electrek-report\"},{\"author\":\"Benzinga '\n",
      " 'Newsdesk\",\"content\":\"\",\"created_at\":\"2022-12-30T16:54:01Z\",\"headline\":\"\\'Tim '\n",
      " \"Cook relayed concern over app store curbs to Japan PM' \"\n",
      " '-Nikkei\",\"id\":30238792,\"images\":[],\"source\":\"benzinga\",\"summary\":\"\",\"symbols\":[\"AAPL\"],\"updated_at\":\"2022-12-30T16:54:02Z\",\"url\":\"https://www.benzinga.com/news/22/12/30238792/tim-cook-relayed-concern-over-app-store-curbs-to-japan-pm-nikkei\"},{\"author\":\"Murtuza '\n",
      " 'Merchant\",\"content\":\"\",\"created_at\":\"2022-12-30T15:47:21Z\",\"headline\":\"Dogecoin '\n",
      " 'Mascot Kabosu Cheats Death, Bounces Back; Experts Share Investment '\n",
      " 'Strategies For Meme '\n",
      " 'Coin\",\"id\":30235763,\"images\":[{\"size\":\"large\",\"url\":\"https://cdn.benzinga.com/files/imagecache/2048x1536xUP/images/story/2022/12/30/dog-g486ac3126_1920.jpg\"},{\"size\":\"small\",\"url\":\"https://cdn.benzinga.com/files/imagecache/1024x768xUP/images/story/2022/12/30/dog-g486ac3126_1920.jpg\"},{\"size\":\"thumb\",\"url\":\"https://cdn.benzinga.com/files/imagecache/250x187xUP/images/story/2022/12/30/dog-g486ac3126_1920.jpg\"}],\"source\":\"benzinga\",\"summary\":\"Dogecoin '\n",
      " '(CRYPTO: DOGE) mascot Kabosu, a 17-year-old Shiba Inu, has made a '\n",
      " '“miraculous” recovery after falling “very dangerously” ill '\n",
      " '\",\"symbols\":[\"DOGEUSD\",\"ETHUSD\",\"SHIBUSD\",\"TSLA\"],\"updated_at\":\"2022-12-30T15:47:22Z\",\"url\":\"https://www.benzinga.com/markets/cryptocurrency/22/12/30235763/dogecoin-mascot-kabosu-cheats-death-bounces-back-experts-share-investment-strategies-for-m\"},{\"author\":\"Franca '\n",
      " 'Quarneti\",\"content\":\"\",\"created_at\":\"2022-12-30T15:33:50Z\",\"headline\":\"Which '\n",
      " \"Video Game Did People Quit (And Complete) The Most In 2022? Hint: It's An \"\n",
      " 'Elon Musk '\n",
      " 'Favorite\",\"id\":30217523,\"images\":[{\"size\":\"large\",\"url\":\"https://cdn.benzinga.com/files/imagecache/2048x1536xUP/images/story/2022/12/28/jeshoots-com-wrgaix9dhi0-unsplash.jpg\"},{\"size\":\"small\",\"url\":\"https://cdn.benzinga.com/files/imagecache/1024x768xUP/images/story/2022/12/28/jeshoots-com-wrgaix9dhi0-unsplash.jpg\"},{\"size\":\"thumb\",\"url\":\"https://cdn.benzinga.com/files/imagecache/250x187xUP/images/story/2022/12/28/jeshoots-com-wrgaix9dhi0-unsplash.jpg\"}],\"source\":\"benzinga\",\"summary\":\"2022 '\n",
      " 'has left us with some incredible video game titles, but there’s one that has '\n",
      " 'obsessed gamers from every corner of the '\n",
      " 'globe.\",\"symbols\":[\"NCBDF\",\"SONY\",\"TCEHY\",\"TSLA\"],\"updated_at\":\"2022-12-30T15:33:50Z\",\"url\":\"https://www.benzinga.com/general/entertainment/22/12/30217523/which-video-game-did-people-quit-and-complete-the-most-in-2022-hint-its-an-elon-musk-favori\"},{\"author\":\"Nina '\n",
      " 'Zdinjak\",\"content\":\"\",\"created_at\":\"2022-12-29T18:09:51Z\",\"headline\":\"From '\n",
      " 'Cannabis Killing 100% Cancer Cells To Snoop Dogg Microwaving His Blunts: '\n",
      " \"Benzinga's Most-Read Marijuana Stories In \"\n",
      " '2022\",\"id\":30227139,\"images\":[{\"size\":\"large\",\"url\":\"https://cdn.benzinga.com/files/imagecache/2048x1536xUP/images/story/2022/12/29/new_project84.jpg\"},{\"size\":\"small\",\"url\":\"https://cdn.benzinga.com/files/imagecache/1024x768xUP/images/story/2022/12/29/new_project84.jpg\"},{\"size\":\"thumb\",\"url\":\"https://cdn.benzinga.com/files/imagecache/250x187xUP/images/story/2022/12/29/new_project84.jpg\"}],\"source\":\"benzinga\",\"summary\":\"Here\\xa0'\n",
      " 'goes another trying year for the cannabis '\n",
      " 'industry.\",\"symbols\":[\"AMZN\",\"GOOGL\",\"META\",\"NFLX\",\"TRSSF\",\"TSLA\"],\"updated_at\":\"2022-12-30T15:11:38Z\",\"url\":\"https://www.benzinga.com/markets/cannabis/22/12/30227139/from-cannabis-killing-100-cancer-cells-to-snoop-dog-microwaving-his-blunts-benzingas-most-read-m\"}],\"next_page_token\":\"MTY3MjQxMzA5ODAwMDAwMDAwMHwzMDIyNzEzOQ==\"}')\n"
     ]
    }
   ],
   "source": [
    "url = \"https://data.alpaca.markets/v1beta1/news?sort=desc\"\n",
    "\n",
    "headers = {\n",
    "    \"accept\": \"application/json\",\n",
    "    \"APCA-API-KEY-ID\": API_KEY,\n",
    "    \"APCA-API-SECRET-KEY\": SECRET_KEY\n",
    "}\n",
    "\n",
    "params = {\n",
    "    \"symbols\": symbols_string,\n",
    "    \"start\": start_date,\n",
    "    \"end\": end_date,\n",
    "}\n",
    "\n",
    "response = requests.get(url, headers=headers, params=params)\n",
    "\n",
    "print(response.text)\n",
    "pprint(response.text)"
   ]
  },
  {
   "cell_type": "code",
   "execution_count": 93,
   "metadata": {},
   "outputs": [
    {
     "name": "stdout",
     "output_type": "stream",
     "text": [
      "   symbol                created_at\n",
      "0    TSLA 2022-12-30 21:09:29+00:00\n",
      "1    TSLA 2022-12-30 20:55:48+00:00\n",
      "2    TSLA 2022-12-30 18:40:58+00:00\n",
      "3    TSLA 2022-12-30 18:20:01+00:00\n",
      "4    AAPL 2022-12-30 17:52:25+00:00\n",
      "5    TSLA 2022-12-30 17:52:25+00:00\n",
      "6    TSLA 2022-12-30 17:06:14+00:00\n",
      "7    AAPL 2022-12-30 16:54:01+00:00\n",
      "8    TSLA 2022-12-30 15:47:21+00:00\n",
      "9    TSLA 2022-12-30 15:33:50+00:00\n",
      "10   TSLA 2022-12-29 18:09:51+00:00\n"
     ]
    }
   ],
   "source": [
    "# Parse the response text into a JSON object\n",
    "news_items = json.loads(response.text)\n",
    "\n",
    "# Flatten the data into a list of dictionaries\n",
    "data = [{'symbol': symbol, 'created_at': item['created_at']} \n",
    "        for item in news_items['news'] \n",
    "        for symbol in item['symbols']\n",
    "        if symbol in symbols\n",
    "]\n",
    "\n",
    "# Create a DataFrame from the list\n",
    "df = pd.DataFrame(data)\n",
    "\n",
    "# Convert the 'created_at' column to datetime format\n",
    "df['created_at'] = pd.to_datetime(df['created_at'])\n",
    "\n",
    "print(df)"
   ]
  },
  {
   "cell_type": "code",
   "execution_count": 94,
   "metadata": {},
   "outputs": [
    {
     "name": "stdout",
     "output_type": "stream",
     "text": [
      "   symbol                created_at\n",
      "0    TSLA 2022-12-30 21:09:29+00:00\n",
      "1    TSLA 2022-12-30 20:55:48+00:00\n",
      "2    TSLA 2022-12-30 18:40:58+00:00\n",
      "3    TSLA 2022-12-30 18:20:01+00:00\n",
      "4    AAPL 2022-12-30 17:52:25+00:00\n",
      "5    TSLA 2022-12-30 17:52:25+00:00\n",
      "6    TSLA 2022-12-30 17:06:14+00:00\n",
      "7    AAPL 2022-12-30 16:54:01+00:00\n",
      "8    TSLA 2022-12-30 15:47:21+00:00\n",
      "9    TSLA 2022-12-30 15:33:50+00:00\n",
      "10   TSLA 2022-12-29 18:09:51+00:00\n"
     ]
    }
   ],
   "source": [
    "print(df)"
   ]
  }
 ],
 "metadata": {
  "kernelspec": {
   "display_name": "zipline",
   "language": "python",
   "name": "python3"
  },
  "language_info": {
   "codemirror_mode": {
    "name": "ipython",
    "version": 3
   },
   "file_extension": ".py",
   "mimetype": "text/x-python",
   "name": "python",
   "nbconvert_exporter": "python",
   "pygments_lexer": "ipython3",
   "version": "3.9.18"
  }
 },
 "nbformat": 4,
 "nbformat_minor": 2
}
